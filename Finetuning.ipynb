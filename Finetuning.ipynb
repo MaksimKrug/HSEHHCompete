{
 "cells": [
  {
   "cell_type": "code",
   "execution_count": null,
   "id": "4380973e",
   "metadata": {},
   "outputs": [],
   "source": [
    "import numpy as np\n",
    "import nltk\n",
    "from tqdm.notebook import tqdm\n",
    "from glob import glob\n",
    "import fasttext\n",
    "from navec import Navec\n",
    "\n",
    "from transformers import AutoTokenizer, AutoModel, BertTokenizer, BertModel\n",
    "from sklearn.model_selection import train_test_split\n",
    "import torch\n",
    "from torch.utils.data import Dataset, DataLoader\n",
    "import torch.functional as F\n",
    "from torch import nn\n",
    "import torchmetrics\n",
    "import pytorch_lightning as pl\n",
    "\n",
    "from warnings import filterwarnings\n",
    "filterwarnings(\"ignore\")"
   ]
  },
  {
   "cell_type": "markdown",
   "id": "ff8d29b8",
   "metadata": {},
   "source": [
    "## Data"
   ]
  },
  {
   "cell_type": "code",
   "execution_count": null,
   "id": "5bf5cf76",
   "metadata": {},
   "outputs": [],
   "source": [
    "from model import CustomDataset"
   ]
  },
  {
   "cell_type": "code",
   "execution_count": null,
   "id": "fc33296a",
   "metadata": {},
   "outputs": [],
   "source": [
    "# embeddings\n",
    "navec_model = Navec.load(\"data/navec_hudlit_v1_12B_500K_300d_100q.tar\")\n",
    "fasttext_model = fasttext.load_model(\"data/cc.ru.300.bin\")\n",
    "\n",
    "# Load data\n",
    "train_data = glob(\"data/augmentations/train/*.npy\")\n",
    "val_data = glob(\"data/augmentations/val/*.npy\")\n",
    "\n",
    "len(train_data), len(val_data)"
   ]
  },
  {
   "cell_type": "code",
   "execution_count": null,
   "id": "edfd236b",
   "metadata": {},
   "outputs": [],
   "source": [
    "sent_size = 112\n",
    "batch_size = 128\n",
    "\n",
    "# dataloaders\n",
    "dataset_train = CustomDataset(train_data, sent_size, True, navec_model, fasttext_model)\n",
    "dataloader_train = DataLoader(dataset_train, batch_size=batch_size, shuffle=True)\n",
    "\n",
    "dataset_val = CustomDataset(val_data, sent_size, True, navec_model, fasttext_model)\n",
    "dataloader_val = DataLoader(dataset_val, batch_size=batch_size, shuffle=True)"
   ]
  },
  {
   "cell_type": "code",
   "execution_count": null,
   "id": "9025c1c2",
   "metadata": {},
   "outputs": [],
   "source": [
    "for x in dataloader_train:\n",
    "    break"
   ]
  },
  {
   "cell_type": "markdown",
   "id": "295673b2",
   "metadata": {},
   "source": [
    "## Model"
   ]
  },
  {
   "cell_type": "code",
   "execution_count": null,
   "id": "f7746b9e",
   "metadata": {},
   "outputs": [],
   "source": [
    "from model import FinalModel\n",
    "import optuna"
   ]
  },
  {
   "cell_type": "code",
   "execution_count": null,
   "id": "aceee679",
   "metadata": {},
   "outputs": [],
   "source": [
    "def objective(trial: optuna.trial.Trial):\n",
    "\n",
    "    # params\n",
    "    lr = trial.suggest_float(\"lr\", 2e-5, 2e-3)\n",
    "    weight_decay = trial.suggest_float(\"weight_decay\", 1e-8, 1e-1)\n",
    "    hidden_size = trial.suggest_int(\"hidden_size\", 4, 256)\n",
    "    bidirectional = trial.suggest_categorical(\"bidirectional\", [True, False])\n",
    "    drop_lstm = trial.suggest_float(\"drop_lstm\", 0.0, 0.6)\n",
    "    drop_linear = trial.suggest_float(\"drop_linear\", 0.0, 0.6)\n",
    "    linear1_size = trial.suggest_int(\"linear1_size\", 256, 1024)\n",
    "    linear2_size = trial.suggest_int(\"linear2_size\", 256, 1024)\n",
    "\n",
    "    \n",
    "    params = {\"lr\": lr, \"weight_decay\": weight_decay, \n",
    "              \"hidden_size\": hidden_size,  \"bidirectional\": bidirectional,\n",
    "              \"drop_lstm\":drop_lstm, \"drop_linear\":drop_linear,\n",
    "              \"linear1_size\":linear1_size, \"linear2_size\":linear2_size}\n",
    "    \n",
    "    # model\n",
    "    model = FinalModel(**params)\n",
    "    \n",
    "    # model utils\n",
    "    lr_monitoring = pl.callbacks.LearningRateMonitor(logging_interval=\"epoch\")\n",
    "    early_stop_callback = pl.callbacks.early_stopping.EarlyStopping(monitor=\"val_f1\", min_delta=0.0001,\n",
    "                                                                    patience=3, verbose=False, mode=\"max\")\n",
    "    logger = pl.loggers.TensorBoardLogger(save_dir=\"logs\", name=\"optuna\")\n",
    "    \n",
    "    # train\n",
    "    trainer = pl.Trainer(gpus=1, max_epochs=15, logger=logger,\n",
    "                         callbacks=[lr_monitoring, early_stop_callback], weights_summary=None)\n",
    "    trainer.logger.log_hyperparams(params)\n",
    "    trainer.fit(model, dataloader_train, dataloader_val)\n",
    "    \n",
    "    return trainer.callback_metrics[\"val_f1\"].item()"
   ]
  },
  {
   "cell_type": "code",
   "execution_count": null,
   "id": "159bcb44",
   "metadata": {
    "scrolled": false
   },
   "outputs": [],
   "source": [
    "study = optuna.create_study(direction=\"maximize\")\n",
    "study.optimize(objective, n_trials=30, timeout=4*60*60)"
   ]
  },
  {
   "cell_type": "code",
   "execution_count": null,
   "id": "03fe8ced",
   "metadata": {},
   "outputs": [],
   "source": []
  },
  {
   "cell_type": "code",
   "execution_count": null,
   "id": "ad8730e3",
   "metadata": {},
   "outputs": [],
   "source": []
  },
  {
   "cell_type": "code",
   "execution_count": null,
   "id": "9623242e",
   "metadata": {},
   "outputs": [],
   "source": []
  },
  {
   "cell_type": "code",
   "execution_count": null,
   "id": "e44f4711",
   "metadata": {},
   "outputs": [],
   "source": []
  },
  {
   "cell_type": "code",
   "execution_count": null,
   "id": "60e43887",
   "metadata": {},
   "outputs": [],
   "source": []
  },
  {
   "cell_type": "code",
   "execution_count": null,
   "id": "ae4bb6ad",
   "metadata": {},
   "outputs": [],
   "source": []
  }
 ],
 "metadata": {
  "kernelspec": {
   "display_name": "Python 3 (ipykernel)",
   "language": "python",
   "name": "python3"
  },
  "language_info": {
   "codemirror_mode": {
    "name": "ipython",
    "version": 3
   },
   "file_extension": ".py",
   "mimetype": "text/x-python",
   "name": "python",
   "nbconvert_exporter": "python",
   "pygments_lexer": "ipython3",
   "version": "3.9.7"
  }
 },
 "nbformat": 4,
 "nbformat_minor": 5
}
