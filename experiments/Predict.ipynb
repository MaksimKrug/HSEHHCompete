{
 "cells": [
  {
   "cell_type": "code",
   "execution_count": null,
   "id": "1ada90d9",
   "metadata": {},
   "outputs": [],
   "source": [
    "import numpy as np\n",
    "from tqdm.notebook import tqdm\n",
    "import nltk\n",
    "import pandas as pd\n",
    "from glob import glob\n",
    "\n",
    "from transformers import AutoTokenizer, AutoModel, BertTokenizer, BertModel\n",
    "\n",
    "import torch\n",
    "from torch.utils.data import Dataset, DataLoader\n",
    "import torch.functional as F\n",
    "from torch import nn\n",
    "import torchmetrics\n",
    "import pytorch_lightning as pl\n",
    "\n",
    "from warnings import filterwarnings\n",
    "filterwarnings(\"ignore\")"
   ]
  },
  {
   "cell_type": "markdown",
   "id": "dc742e00",
   "metadata": {},
   "source": [
    "## LSTM"
   ]
  },
  {
   "cell_type": "code",
   "execution_count": null,
   "id": "3b190f42",
   "metadata": {},
   "outputs": [],
   "source": [
    "from model import LSTMModel, Model, CustomDataset"
   ]
  },
  {
   "cell_type": "code",
   "execution_count": null,
   "id": "8a78997c",
   "metadata": {},
   "outputs": [],
   "source": [
    "sent_size = 112\n",
    "\n",
    "# Load tokenizer\n",
    "tokenizer_bert = BertTokenizer.from_pretrained(\"DeepPavlov/rubert-base-cased\")\n",
    "tokenizer_lstm = nltk.RegexpTokenizer(r\"[а-я]+|<unk>|<pad>\")\n",
    "\n",
    "# load test and sort\n",
    "test_data = glob(\"data/augmentations/test/*.npy\")\n",
    "test_data = [i.split(\"_\") for i in test_data]\n",
    "test_data = {i[1]: i[0] for i in test_data}\n",
    "sorted_test_data = []\n",
    "for i in range(len(test_data)):\n",
    "    sorted_test_data.append(test_data[str(i)+\".npy\"]+\"_\"+str(i)+\".npy\")\n",
    "\n",
    "# data\n",
    "dataset_test = CustomDataset(sorted_test_data, tokenizer_bert, tokenizer_lstm, sent_size=sent_size,\n",
    "                              train_mode=False, model_type=\"lstm\")\n",
    "dataloader_test = DataLoader(dataset_test, batch_size=1, shuffle=False)"
   ]
  },
  {
   "cell_type": "code",
   "execution_count": null,
   "id": "7de5fc12",
   "metadata": {},
   "outputs": [],
   "source": [
    "# load model\n",
    "# model = LSTMModel.load_from_checkpoint(\"data/models/Final_Model_lstm.ckpt\")\n",
    "\n",
    "model = LSTMModel.load_from_checkpoint(\"data/models/Final_Model_lstm_pseudo.ckpt\")\n",
    "trainer = pl.Trainer(gpus=1)"
   ]
  },
  {
   "cell_type": "code",
   "execution_count": null,
   "id": "8b185f6b",
   "metadata": {},
   "outputs": [],
   "source": [
    "# preds\n",
    "preds = trainer.predict(model, dataloader_test)"
   ]
  },
  {
   "cell_type": "code",
   "execution_count": null,
   "id": "abd00a04",
   "metadata": {},
   "outputs": [],
   "source": [
    "# Predicts\n",
    "sample_submission = pd.read_csv(\"data/HeadHunter_sample_submit.csv\")\n",
    "\n",
    "const = 0.2\n",
    "thresholds = [const]\n",
    "y_pred = []\n",
    "submit_preds = []\n",
    "count_zero = 0\n",
    "\n",
    "for pred in tqdm(preds):\n",
    "    pred = (pred.numpy() > thresholds).astype(int).tolist()\n",
    "    y_pred.extend(pred)\n",
    "    \n",
    "    if sum(pred[0]) == 0:\n",
    "        count_zero += 1\n",
    "        submit_preds.append(\"0\")\n",
    "    else:\n",
    "        submit_preds.append(\",\".join([str(i) for i in range(9) if pred[0][i]==1]))\n",
    "        \n",
    "print(f\"Zero forecasts: {count_zero}\")\n",
    "sample_submission[\"target\"] = submit_preds\n",
    "sample_submission.to_csv(\"data/submissions/final_lstm.csv\", index=False)"
   ]
  },
  {
   "cell_type": "markdown",
   "id": "5d564343",
   "metadata": {},
   "source": [
    "## Bert Not Retrained"
   ]
  },
  {
   "cell_type": "code",
   "execution_count": null,
   "id": "87d59f1c",
   "metadata": {},
   "outputs": [],
   "source": [
    "from model import LSTMModel, Model, CustomDataset"
   ]
  },
  {
   "cell_type": "code",
   "execution_count": null,
   "id": "849c4dbb",
   "metadata": {},
   "outputs": [],
   "source": [
    "sent_size = 112\n",
    "\n",
    "# Load tokenizer\n",
    "tokenizer_bert = BertTokenizer.from_pretrained(\"DeepPavlov/rubert-base-cased\")\n",
    "tokenizer_lstm = nltk.RegexpTokenizer(r\"[а-я]+|<unk>|<pad>\")\n",
    "\n",
    "# load test and sort\n",
    "test_data = glob(\"data/augmentations/test/*.npy\")\n",
    "test_data = [i.split(\"_\") for i in test_data]\n",
    "test_data = {i[1]: i[0] for i in test_data}\n",
    "sorted_test_data = []\n",
    "for i in range(len(test_data)):\n",
    "    sorted_test_data.append(test_data[str(i)+\".npy\"]+\"_\"+str(i)+\".npy\")\n",
    "\n",
    "# data\n",
    "dataset_test = CustomDataset(sorted_test_data, tokenizer_bert, tokenizer_lstm, sent_size=sent_size,\n",
    "                              train_mode=False, model_type=\"bert\")\n",
    "dataloader_test = DataLoader(dataset_test, batch_size=1, shuffle=False)"
   ]
  },
  {
   "cell_type": "code",
   "execution_count": null,
   "id": "f6d37565",
   "metadata": {},
   "outputs": [],
   "source": [
    "# load model\n",
    "model = Model.load_from_checkpoint(\"data/models/Final_Model_notretrained.ckpt\")\n",
    "trainer = pl.Trainer(gpus=1)"
   ]
  },
  {
   "cell_type": "code",
   "execution_count": null,
   "id": "6402f069",
   "metadata": {},
   "outputs": [],
   "source": [
    "# preds\n",
    "preds = trainer.predict(model, dataloader_test)"
   ]
  },
  {
   "cell_type": "code",
   "execution_count": null,
   "id": "c1413e6b",
   "metadata": {},
   "outputs": [],
   "source": [
    "# Predicts\n",
    "sample_submission = pd.read_csv(\"data/HeadHunter_sample_submit.csv\")\n",
    "\n",
    "const = 0.2\n",
    "thresholds = [const]\n",
    "y_pred = []\n",
    "submit_preds = []\n",
    "count_zero = 0\n",
    "\n",
    "for pred in tqdm(preds):\n",
    "    pred = (pred.numpy() > thresholds).astype(int).tolist()\n",
    "    y_pred.extend(pred)\n",
    "    \n",
    "    if sum(pred[0]) == 0:\n",
    "        count_zero += 1\n",
    "        submit_preds.append(\"0\")\n",
    "    else:\n",
    "        submit_preds.append(\",\".join([str(i) for i in range(9) if pred[0][i]==1]))\n",
    "        \n",
    "print(f\"Zero forecasts: {count_zero}\")\n",
    "sample_submission[\"target\"] = submit_preds\n",
    "sample_submission.to_csv(\"data/submissions/final_bert_not_retrained.csv\", index=False)"
   ]
  },
  {
   "cell_type": "markdown",
   "id": "07c8fa6a",
   "metadata": {},
   "source": [
    "## Bert Retrained Pseudo"
   ]
  },
  {
   "cell_type": "code",
   "execution_count": null,
   "id": "35b85c63",
   "metadata": {},
   "outputs": [],
   "source": [
    "from model import LSTMModel, Model, CustomDataset"
   ]
  },
  {
   "cell_type": "code",
   "execution_count": null,
   "id": "c56ba2c1",
   "metadata": {},
   "outputs": [],
   "source": [
    "sent_size = 112\n",
    "\n",
    "# Load tokenizer\n",
    "tokenizer_bert = BertTokenizer.from_pretrained(\"DeepPavlov/rubert-base-cased\")\n",
    "tokenizer_lstm = nltk.RegexpTokenizer(r\"[а-я]+|<unk>|<pad>\")\n",
    "\n",
    "# load test and sort\n",
    "test_data = glob(\"data/augmentations/test/*.npy\")\n",
    "test_data = [i.split(\"_\") for i in test_data]\n",
    "test_data = {i[1]: i[0] for i in test_data}\n",
    "sorted_test_data = []\n",
    "for i in range(len(test_data)):\n",
    "    sorted_test_data.append(test_data[str(i)+\".npy\"]+\"_\"+str(i)+\".npy\")\n",
    "\n",
    "# data\n",
    "dataset_test = CustomDataset(sorted_test_data, tokenizer_bert, tokenizer_lstm, sent_size=sent_size,\n",
    "                              train_mode=False, model_type=\"bert\")\n",
    "dataloader_test = DataLoader(dataset_test, batch_size=1, shuffle=False)"
   ]
  },
  {
   "cell_type": "code",
   "execution_count": null,
   "id": "eee3fe40",
   "metadata": {},
   "outputs": [],
   "source": [
    "# load model\n",
    "model = Model.load_from_checkpoint(\"data/models/Final_Model_notretrained.ckpt\")\n",
    "trainer = pl.Trainer(gpus=1)\n",
    "\n",
    "# preds\n",
    "preds = trainer.predict(model, dataloader_test)"
   ]
  },
  {
   "cell_type": "code",
   "execution_count": null,
   "id": "ef3434e3",
   "metadata": {},
   "outputs": [],
   "source": [
    "# Predicts\n",
    "sample_submission = pd.read_csv(\"data/HeadHunter_sample_submit.csv\")\n",
    "\n",
    "const = 0.2\n",
    "thresholds = [const]\n",
    "y_pred = []\n",
    "submit_preds = []\n",
    "count_zero = 0\n",
    "\n",
    "for pred in tqdm(preds):\n",
    "    pred = (pred.numpy() > thresholds).astype(int).tolist()\n",
    "    y_pred.extend(pred)\n",
    "    \n",
    "    if sum(pred[0]) == 0:\n",
    "        count_zero += 1\n",
    "        submit_preds.append(\"0\")\n",
    "    else:\n",
    "        submit_preds.append(\",\".join([str(i) for i in range(9) if pred[0][i]==1]))\n",
    "        \n",
    "print(f\"Zero forecasts: {count_zero}\")\n",
    "sample_submission[\"target\"] = submit_preds\n",
    "sample_submission.to_csv(\"data/submissions/final_bert_retrained_pseudo.csv\", index=False)"
   ]
  },
  {
   "cell_type": "code",
   "execution_count": null,
   "id": "559891ce",
   "metadata": {},
   "outputs": [],
   "source": []
  },
  {
   "cell_type": "code",
   "execution_count": null,
   "id": "07072160",
   "metadata": {},
   "outputs": [],
   "source": []
  },
  {
   "cell_type": "code",
   "execution_count": null,
   "id": "ff69691e",
   "metadata": {},
   "outputs": [],
   "source": []
  },
  {
   "cell_type": "code",
   "execution_count": null,
   "id": "5659d648",
   "metadata": {},
   "outputs": [],
   "source": []
  }
 ],
 "metadata": {
  "kernelspec": {
   "display_name": "Python 3 (ipykernel)",
   "language": "python",
   "name": "python3"
  },
  "language_info": {
   "codemirror_mode": {
    "name": "ipython",
    "version": 3
   },
   "file_extension": ".py",
   "mimetype": "text/x-python",
   "name": "python",
   "nbconvert_exporter": "python",
   "pygments_lexer": "ipython3",
   "version": "3.9.7"
  }
 },
 "nbformat": 4,
 "nbformat_minor": 5
}
