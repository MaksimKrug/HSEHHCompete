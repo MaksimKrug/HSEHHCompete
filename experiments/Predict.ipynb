{
 "cells": [
  {
   "cell_type": "code",
   "execution_count": 1,
   "id": "1ada90d9",
   "metadata": {},
   "outputs": [],
   "source": [
    "import numpy as np\n",
    "from tqdm.notebook import tqdm\n",
    "import nltk\n",
    "import pandas as pd\n",
    "from glob import glob\n",
    "\n",
    "from transformers import AutoTokenizer, AutoModel, BertTokenizer, BertModel\n",
    "\n",
    "import torch\n",
    "from torch.utils.data import Dataset, DataLoader\n",
    "import torch.functional as F\n",
    "from torch import nn\n",
    "import torchmetrics\n",
    "import pytorch_lightning as pl\n",
    "\n",
    "from warnings import filterwarnings\n",
    "filterwarnings(\"ignore\")"
   ]
  },
  {
   "cell_type": "markdown",
   "id": "dc742e00",
   "metadata": {},
   "source": [
    "## LSTM"
   ]
  },
  {
   "cell_type": "code",
   "execution_count": 2,
   "id": "3b190f42",
   "metadata": {},
   "outputs": [],
   "source": [
    "from model import LSTMModel, Model, CustomDataset"
   ]
  },
  {
   "cell_type": "code",
   "execution_count": 3,
   "id": "8a78997c",
   "metadata": {},
   "outputs": [],
   "source": [
    "sent_size = 112\n",
    "\n",
    "# Load tokenizer\n",
    "tokenizer_bert = BertTokenizer.from_pretrained(\"DeepPavlov/rubert-base-cased\")\n",
    "tokenizer_lstm = nltk.RegexpTokenizer(r\"[а-я]+|<unk>|<pad>\")\n",
    "\n",
    "# load test and sort\n",
    "test_data = glob(\"data/augmentations/test/*.npy\")\n",
    "test_data = [i.split(\"_\") for i in test_data]\n",
    "test_data = {i[1]: i[0] for i in test_data}\n",
    "sorted_test_data = []\n",
    "for i in range(len(test_data)):\n",
    "    sorted_test_data.append(test_data[str(i)+\".npy\"]+\"_\"+str(i)+\".npy\")\n",
    "\n",
    "# data\n",
    "dataset_test = CustomDataset(sorted_test_data, tokenizer_bert, tokenizer_lstm, sent_size=sent_size,\n",
    "                              train_mode=False, model_type=\"lstm\")\n",
    "dataloader_test = DataLoader(dataset_test, batch_size=1, shuffle=False)"
   ]
  },
  {
   "cell_type": "code",
   "execution_count": 4,
   "id": "7de5fc12",
   "metadata": {},
   "outputs": [
    {
     "name": "stderr",
     "output_type": "stream",
     "text": [
      "GPU available: True, used: True\n",
      "TPU available: False, using: 0 TPU cores\n",
      "IPU available: False, using: 0 IPUs\n"
     ]
    }
   ],
   "source": [
    "# load model\n",
    "# model = LSTMModel.load_from_checkpoint(\"data/models/Final_Model_lstm.ckpt\")\n",
    "\n",
    "model = LSTMModel.load_from_checkpoint(\"data/models/Final_Model_lstm_pseudo.ckpt\")\n",
    "trainer = pl.Trainer(gpus=1)"
   ]
  },
  {
   "cell_type": "code",
   "execution_count": 5,
   "id": "8b185f6b",
   "metadata": {},
   "outputs": [
    {
     "name": "stderr",
     "output_type": "stream",
     "text": [
      "LOCAL_RANK: 0 - CUDA_VISIBLE_DEVICES: [0]\n"
     ]
    },
    {
     "data": {
      "application/vnd.jupyter.widget-view+json": {
       "model_id": "27c38cf31c7e4fc889b790a4434c1846",
       "version_major": 2,
       "version_minor": 0
      },
      "text/plain": [
       "Predicting: 0it [00:00, ?it/s]"
      ]
     },
     "metadata": {},
     "output_type": "display_data"
    }
   ],
   "source": [
    "# preds\n",
    "preds = trainer.predict(model, dataloader_test)"
   ]
  },
  {
   "cell_type": "code",
   "execution_count": 8,
   "id": "abd00a04",
   "metadata": {},
   "outputs": [
    {
     "data": {
      "application/vnd.jupyter.widget-view+json": {
       "model_id": "b2698f8107364976a2c6cbe666e01258",
       "version_major": 2,
       "version_minor": 0
      },
      "text/plain": [
       "  0%|          | 0/50651 [00:00<?, ?it/s]"
      ]
     },
     "metadata": {},
     "output_type": "display_data"
    },
    {
     "name": "stdout",
     "output_type": "stream",
     "text": [
      "Zero forecasts: 0\n"
     ]
    }
   ],
   "source": [
    "# Predicts\n",
    "sample_submission = pd.read_csv(\"data/HeadHunter_sample_submit.csv\")\n",
    "\n",
    "const = 0.2\n",
    "thresholds = [const]\n",
    "y_pred = []\n",
    "submit_preds = []\n",
    "count_zero = 0\n",
    "\n",
    "for pred in tqdm(preds):\n",
    "    pred = (pred.numpy() > thresholds).astype(int).tolist()\n",
    "    y_pred.extend(pred)\n",
    "    \n",
    "    if sum(pred[0]) == 0:\n",
    "        count_zero += 1\n",
    "        submit_preds.append(\"0\")\n",
    "    else:\n",
    "        submit_preds.append(\",\".join([str(i) for i in range(9) if pred[0][i]==1]))\n",
    "        \n",
    "print(f\"Zero forecasts: {count_zero}\")\n",
    "sample_submission[\"target\"] = submit_preds\n",
    "sample_submission.to_csv(\"data/submissions/final_lstm.csv\", index=False)"
   ]
  },
  {
   "cell_type": "markdown",
   "id": "5d564343",
   "metadata": {},
   "source": [
    "## Bert Not Retrained"
   ]
  },
  {
   "cell_type": "code",
   "execution_count": 2,
   "id": "87d59f1c",
   "metadata": {},
   "outputs": [],
   "source": [
    "from model import LSTMModel, Model, CustomDataset"
   ]
  },
  {
   "cell_type": "code",
   "execution_count": 3,
   "id": "849c4dbb",
   "metadata": {},
   "outputs": [],
   "source": [
    "sent_size = 112\n",
    "\n",
    "# Load tokenizer\n",
    "tokenizer_bert = BertTokenizer.from_pretrained(\"DeepPavlov/rubert-base-cased\")\n",
    "tokenizer_lstm = nltk.RegexpTokenizer(r\"[а-я]+|<unk>|<pad>\")\n",
    "\n",
    "# load test and sort\n",
    "test_data = glob(\"data/augmentations/test/*.npy\")\n",
    "test_data = [i.split(\"_\") for i in test_data]\n",
    "test_data = {i[1]: i[0] for i in test_data}\n",
    "sorted_test_data = []\n",
    "for i in range(len(test_data)):\n",
    "    sorted_test_data.append(test_data[str(i)+\".npy\"]+\"_\"+str(i)+\".npy\")\n",
    "\n",
    "# data\n",
    "dataset_test = CustomDataset(sorted_test_data, tokenizer_bert, tokenizer_lstm, sent_size=sent_size,\n",
    "                              train_mode=False, model_type=\"bert\")\n",
    "dataloader_test = DataLoader(dataset_test, batch_size=1, shuffle=False)"
   ]
  },
  {
   "cell_type": "code",
   "execution_count": 4,
   "id": "f6d37565",
   "metadata": {},
   "outputs": [
    {
     "name": "stderr",
     "output_type": "stream",
     "text": [
      "Some weights of the model checkpoint at DeepPavlov/rubert-base-cased were not used when initializing BertModel: ['cls.predictions.decoder.weight', 'cls.seq_relationship.bias', 'cls.predictions.transform.LayerNorm.weight', 'cls.predictions.bias', 'cls.predictions.transform.LayerNorm.bias', 'cls.predictions.transform.dense.bias', 'cls.predictions.transform.dense.weight', 'cls.seq_relationship.weight', 'cls.predictions.decoder.bias']\n",
      "- This IS expected if you are initializing BertModel from the checkpoint of a model trained on another task or with another architecture (e.g. initializing a BertForSequenceClassification model from a BertForPreTraining model).\n",
      "- This IS NOT expected if you are initializing BertModel from the checkpoint of a model that you expect to be exactly identical (initializing a BertForSequenceClassification model from a BertForSequenceClassification model).\n",
      "GPU available: True, used: True\n",
      "TPU available: False, using: 0 TPU cores\n",
      "IPU available: False, using: 0 IPUs\n"
     ]
    }
   ],
   "source": [
    "# load model\n",
    "model = Model.load_from_checkpoint(\"data/models/Final_Model_notretrained.ckpt\")\n",
    "trainer = pl.Trainer(gpus=1)"
   ]
  },
  {
   "cell_type": "code",
   "execution_count": null,
   "id": "6402f069",
   "metadata": {},
   "outputs": [
    {
     "name": "stderr",
     "output_type": "stream",
     "text": [
      "LOCAL_RANK: 0 - CUDA_VISIBLE_DEVICES: [0]\n"
     ]
    },
    {
     "data": {
      "application/vnd.jupyter.widget-view+json": {
       "model_id": "a8e8e1628b664c34a6de1bd519ae1747",
       "version_major": 2,
       "version_minor": 0
      },
      "text/plain": [
       "Predicting: 0it [00:00, ?it/s]"
      ]
     },
     "metadata": {},
     "output_type": "display_data"
    }
   ],
   "source": [
    "# preds\n",
    "preds = trainer.predict(model, dataloader_test)"
   ]
  },
  {
   "cell_type": "code",
   "execution_count": null,
   "id": "c1413e6b",
   "metadata": {},
   "outputs": [],
   "source": [
    "# Predicts\n",
    "sample_submission = pd.read_csv(\"data/HeadHunter_sample_submit.csv\")\n",
    "\n",
    "const = 0.2\n",
    "thresholds = [const]\n",
    "y_pred = []\n",
    "submit_preds = []\n",
    "count_zero = 0\n",
    "\n",
    "for pred in tqdm(preds):\n",
    "    pred = (pred.numpy() > thresholds).astype(int).tolist()\n",
    "    y_pred.extend(pred)\n",
    "    \n",
    "    if sum(pred[0]) == 0:\n",
    "        count_zero += 1\n",
    "        submit_preds.append(\"0\")\n",
    "    else:\n",
    "        submit_preds.append(\",\".join([str(i) for i in range(9) if pred[0][i]==1]))\n",
    "        \n",
    "print(f\"Zero forecasts: {count_zero}\")\n",
    "sample_submission[\"target\"] = submit_preds\n",
    "sample_submission.to_csv(\"data/submissions/final_bert_not_retrained.csv\", index=False)"
   ]
  },
  {
   "cell_type": "markdown",
   "id": "07c8fa6a",
   "metadata": {},
   "source": [
    "## Bert Retrained Pseudo"
   ]
  },
  {
   "cell_type": "code",
   "execution_count": 2,
   "id": "35b85c63",
   "metadata": {},
   "outputs": [],
   "source": [
    "from model import LSTMModel, Model, CustomDataset"
   ]
  },
  {
   "cell_type": "code",
   "execution_count": 3,
   "id": "c56ba2c1",
   "metadata": {},
   "outputs": [],
   "source": [
    "sent_size = 112\n",
    "\n",
    "# Load tokenizer\n",
    "tokenizer_bert = BertTokenizer.from_pretrained(\"DeepPavlov/rubert-base-cased\")\n",
    "tokenizer_lstm = nltk.RegexpTokenizer(r\"[а-я]+|<unk>|<pad>\")\n",
    "\n",
    "# load test and sort\n",
    "test_data = glob(\"data/augmentations/test/*.npy\")\n",
    "test_data = [i.split(\"_\") for i in test_data]\n",
    "test_data = {i[1]: i[0] for i in test_data}\n",
    "sorted_test_data = []\n",
    "for i in range(len(test_data)):\n",
    "    sorted_test_data.append(test_data[str(i)+\".npy\"]+\"_\"+str(i)+\".npy\")\n",
    "\n",
    "# data\n",
    "dataset_test = CustomDataset(sorted_test_data, tokenizer_bert, tokenizer_lstm, sent_size=sent_size,\n",
    "                              train_mode=False, model_type=\"bert\")\n",
    "dataloader_test = DataLoader(dataset_test, batch_size=1, shuffle=False)"
   ]
  },
  {
   "cell_type": "code",
   "execution_count": 5,
   "id": "eee3fe40",
   "metadata": {},
   "outputs": [
    {
     "name": "stderr",
     "output_type": "stream",
     "text": [
      "Some weights of the model checkpoint at Skoltech/russian-sensitive-topics were not used when initializing BertModel: ['classifier.bias', 'classifier.weight']\n",
      "- This IS expected if you are initializing BertModel from the checkpoint of a model trained on another task or with another architecture (e.g. initializing a BertForSequenceClassification model from a BertForPreTraining model).\n",
      "- This IS NOT expected if you are initializing BertModel from the checkpoint of a model that you expect to be exactly identical (initializing a BertForSequenceClassification model from a BertForSequenceClassification model).\n",
      "GPU available: True, used: True\n",
      "TPU available: False, using: 0 TPU cores\n",
      "IPU available: False, using: 0 IPUs\n",
      "LOCAL_RANK: 0 - CUDA_VISIBLE_DEVICES: [0]\n"
     ]
    },
    {
     "data": {
      "application/vnd.jupyter.widget-view+json": {
       "model_id": "bc306249dc6d44a3b6b7275ee5a5dced",
       "version_major": 2,
       "version_minor": 0
      },
      "text/plain": [
       "Predicting: 0it [00:00, ?it/s]"
      ]
     },
     "metadata": {},
     "output_type": "display_data"
    }
   ],
   "source": [
    "# load model\n",
    "model = Model.load_from_checkpoint(\"data/models/Final_Model_notretrained.ckpt\")\n",
    "trainer = pl.Trainer(gpus=1)\n",
    "\n",
    "# preds\n",
    "preds = trainer.predict(model, dataloader_test)"
   ]
  },
  {
   "cell_type": "code",
   "execution_count": 6,
   "id": "ef3434e3",
   "metadata": {},
   "outputs": [
    {
     "data": {
      "application/vnd.jupyter.widget-view+json": {
       "model_id": "66f8b4112ff0414a917b334deaf0294f",
       "version_major": 2,
       "version_minor": 0
      },
      "text/plain": [
       "  0%|          | 0/50651 [00:00<?, ?it/s]"
      ]
     },
     "metadata": {},
     "output_type": "display_data"
    },
    {
     "name": "stdout",
     "output_type": "stream",
     "text": [
      "Zero forecasts: 3\n"
     ]
    }
   ],
   "source": [
    "# Predicts\n",
    "sample_submission = pd.read_csv(\"data/HeadHunter_sample_submit.csv\")\n",
    "\n",
    "const = 0.2\n",
    "thresholds = [const]\n",
    "y_pred = []\n",
    "submit_preds = []\n",
    "count_zero = 0\n",
    "\n",
    "for pred in tqdm(preds):\n",
    "    pred = (pred.numpy() > thresholds).astype(int).tolist()\n",
    "    y_pred.extend(pred)\n",
    "    \n",
    "    if sum(pred[0]) == 0:\n",
    "        count_zero += 1\n",
    "        submit_preds.append(\"0\")\n",
    "    else:\n",
    "        submit_preds.append(\",\".join([str(i) for i in range(9) if pred[0][i]==1]))\n",
    "        \n",
    "print(f\"Zero forecasts: {count_zero}\")\n",
    "sample_submission[\"target\"] = submit_preds\n",
    "sample_submission.to_csv(\"data/submissions/final_bert_retrained_pseudo.csv\", index=False)"
   ]
  },
  {
   "cell_type": "code",
   "execution_count": null,
   "id": "559891ce",
   "metadata": {},
   "outputs": [],
   "source": []
  },
  {
   "cell_type": "code",
   "execution_count": null,
   "id": "07072160",
   "metadata": {},
   "outputs": [],
   "source": []
  },
  {
   "cell_type": "code",
   "execution_count": null,
   "id": "ff69691e",
   "metadata": {},
   "outputs": [],
   "source": []
  },
  {
   "cell_type": "code",
   "execution_count": null,
   "id": "5659d648",
   "metadata": {},
   "outputs": [],
   "source": []
  }
 ],
 "metadata": {
  "kernelspec": {
   "display_name": "Python 3 (ipykernel)",
   "language": "python",
   "name": "python3"
  },
  "language_info": {
   "codemirror_mode": {
    "name": "ipython",
    "version": 3
   },
   "file_extension": ".py",
   "mimetype": "text/x-python",
   "name": "python",
   "nbconvert_exporter": "python",
   "pygments_lexer": "ipython3",
   "version": "3.9.7"
  }
 },
 "nbformat": 4,
 "nbformat_minor": 5
}
