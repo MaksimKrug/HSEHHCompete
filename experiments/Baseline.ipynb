{
 "cells": [
  {
   "cell_type": "markdown",
   "id": "ced8cfc0",
   "metadata": {},
   "source": [
    "For baseline solution I used simple tf-idf model"
   ]
  },
  {
   "cell_type": "code",
   "execution_count": null,
   "id": "b63013d1",
   "metadata": {},
   "outputs": [],
   "source": [
    "import numpy as np\n",
    "import pandas as pd\n",
    "import matplotlib.pyplot as plt\n",
    "import seaborn as sns\n",
    "import nltk\n",
    "from tqdm.notebook import tqdm\n",
    "\n",
    "from warnings import filterwarnings\n",
    "filterwarnings(\"ignore\")"
   ]
  },
  {
   "cell_type": "markdown",
   "id": "1993aee0",
   "metadata": {},
   "source": [
    "## Load data"
   ]
  },
  {
   "cell_type": "code",
   "execution_count": null,
   "id": "cee23e0d",
   "metadata": {},
   "outputs": [],
   "source": [
    "train = pd.read_csv(\"data/HeadHunter_train.csv\")\n",
    "test = pd.read_csv(\"data/HeadHunter_test.csv\")\n",
    "sample_submission = pd.read_csv(\"data/HeadHunter_sample_submit.csv\")\n",
    "\n",
    "positive_sentences = np.load(\"data/positive_sentences.npy\")\n",
    "negative_sentences = np.load(\"data/negative_sentences.npy\")\n",
    "\n",
    "print(f\"Train shape: {train.shape} | Test shape: {test.shape}\")"
   ]
  },
  {
   "cell_type": "markdown",
   "id": "8651449f",
   "metadata": {},
   "source": [
    "## Model"
   ]
  },
  {
   "cell_type": "code",
   "execution_count": null,
   "id": "82b0bf18",
   "metadata": {},
   "outputs": [],
   "source": [
    "from sklearn.pipeline import Pipeline\n",
    "from sklearn.feature_extraction.text import TfidfVectorizer\n",
    "from sklearn.multiclass import OneVsRestClassifier\n",
    "from sklearn.linear_model import LogisticRegression\n",
    "from sklearn.model_selection import train_test_split\n",
    "\n",
    "from shared import calculate_metrics\n",
    "\n",
    "import optuna"
   ]
  },
  {
   "cell_type": "code",
   "execution_count": null,
   "id": "413330e9",
   "metadata": {},
   "outputs": [],
   "source": [
    "# data\n",
    "text = [positive_sentences[i] + \" \" + negative_sentences[i] for i in range(len(positive_sentences))]\n",
    "text = np.array(text)\n",
    "\n",
    "# target\n",
    "train.dropna(subset=[\"positive\", \"negative\"], inplace=True, how=\"all\")\n",
    "train[\"preprocessed_target\"] = train[\"target\"].str.split(\",\").apply(lambda x: x[0]).astype(int)\n",
    "target = train[\"preprocessed_target\"].values\n",
    "\n",
    "print(f\"Input shape: {text.shape}, Target shape : {target.shape}\")"
   ]
  },
  {
   "cell_type": "code",
   "execution_count": null,
   "id": "cb0496e4",
   "metadata": {},
   "outputs": [],
   "source": [
    "# split\n",
    "text_train, text_test, target_train, target_test = train_test_split(text, target)\n",
    "print(f\"Train shape: {text_train.shape}, Test shape: {text_test.shape}\")"
   ]
  },
  {
   "cell_type": "code",
   "execution_count": null,
   "id": "4c727180",
   "metadata": {
    "scrolled": true
   },
   "outputs": [],
   "source": [
    "def objective(trial):\n",
    "\n",
    "    # params\n",
    "    C = trial.suggest_float(\"C\", 1e-10, 3)\n",
    "    max_df = trial.suggest_int(\"max_df\", 1, 5)\n",
    "    ngram_range = trial.suggest_int(\"ngram_range\", 1, 5)\n",
    "    \n",
    "    # train\n",
    "    pipeline = Pipeline([(\"tfidf\", TfidfVectorizer(ngram_range=(1,ngram_range), max_df=max_df)),\n",
    "                         (\"clf\", OneVsRestClassifier(LogisticRegression(max_iter=1000, C=C)))])\n",
    "    pipeline.fit(text_train, target_train)\n",
    "    \n",
    "    # metrics\n",
    "    preds = pipeline.predict(text_test)\n",
    "    acc, pr, rc = calculate_metrics(y_true=target_test, y_pred=preds)\n",
    "    \n",
    "    return acc\n",
    "\n",
    "study = optuna.create_study(direction='maximize')\n",
    "study.optimize(objective, n_trials=30)"
   ]
  },
  {
   "cell_type": "code",
   "execution_count": null,
   "id": "88ff55df",
   "metadata": {},
   "outputs": [],
   "source": [
    "study.best_params"
   ]
  },
  {
   "cell_type": "code",
   "execution_count": null,
   "id": "98b5da62",
   "metadata": {},
   "outputs": [],
   "source": [
    "%%time\n",
    "pipeline = Pipeline([(\"tfidf\", TfidfVectorizer(ngram_range=(1,study.best_params[\"ngram_range\"]),\n",
    "                                               max_df=study.best_params[\"max_df\"])),\n",
    "                     (\"clf\", OneVsRestClassifier(LogisticRegression(max_iter=1000,\n",
    "                                                                    C=study.best_params[\"C\"])))])\n",
    "pipeline.fit(text_train, target_train)\n",
    "preds = pipeline.predict(text_test)\n",
    "acc, pr, rc = calculate_metrics(y_true=target_test, y_pred=preds)"
   ]
  },
  {
   "cell_type": "code",
   "execution_count": null,
   "id": "19b7773e",
   "metadata": {},
   "outputs": [],
   "source": [
    "# check distribution\n",
    "display(np.unique(preds, return_counts=True))\n",
    "display(np.unique(target_test, return_counts=True))"
   ]
  },
  {
   "cell_type": "code",
   "execution_count": null,
   "id": "74c4b99b",
   "metadata": {},
   "outputs": [],
   "source": []
  },
  {
   "cell_type": "code",
   "execution_count": null,
   "id": "b428e198",
   "metadata": {},
   "outputs": [],
   "source": []
  },
  {
   "cell_type": "code",
   "execution_count": null,
   "id": "4411183e",
   "metadata": {},
   "outputs": [],
   "source": []
  }
 ],
 "metadata": {
  "kernelspec": {
   "display_name": "Python 3 (ipykernel)",
   "language": "python",
   "name": "python3"
  },
  "language_info": {
   "codemirror_mode": {
    "name": "ipython",
    "version": 3
   },
   "file_extension": ".py",
   "mimetype": "text/x-python",
   "name": "python",
   "nbconvert_exporter": "python",
   "pygments_lexer": "ipython3",
   "version": "3.9.7"
  }
 },
 "nbformat": 4,
 "nbformat_minor": 5
}
