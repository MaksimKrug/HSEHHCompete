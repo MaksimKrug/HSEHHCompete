{
 "cells": [
  {
   "cell_type": "markdown",
   "id": "ced8cfc0",
   "metadata": {},
   "source": [
    "For baseline solution I used simple tf-idf model"
   ]
  },
  {
   "cell_type": "code",
   "execution_count": 1,
   "id": "b63013d1",
   "metadata": {},
   "outputs": [],
   "source": [
    "import numpy as np\n",
    "import pandas as pd\n",
    "import matplotlib.pyplot as plt\n",
    "import seaborn as sns\n",
    "import nltk\n",
    "from tqdm.notebook import tqdm\n",
    "\n",
    "from warnings import filterwarnings\n",
    "filterwarnings(\"ignore\")"
   ]
  },
  {
   "cell_type": "markdown",
   "id": "1993aee0",
   "metadata": {},
   "source": [
    "## Load data"
   ]
  },
  {
   "cell_type": "code",
   "execution_count": 2,
   "id": "cee23e0d",
   "metadata": {},
   "outputs": [
    {
     "name": "stdout",
     "output_type": "stream",
     "text": [
      "Train shape: (50876, 12) | Test shape: (50651, 11)\n"
     ]
    }
   ],
   "source": [
    "train = pd.read_csv(\"data/HeadHunter_train.csv\")\n",
    "test = pd.read_csv(\"data/HeadHunter_test.csv\")\n",
    "sample_submission = pd.read_csv(\"data/HeadHunter_sample_submit.csv\")\n",
    "\n",
    "positive_sentences = np.load(\"data/positive_sentences.npy\")\n",
    "negative_sentences = np.load(\"data/negative_sentences.npy\")\n",
    "\n",
    "print(f\"Train shape: {train.shape} | Test shape: {test.shape}\")"
   ]
  },
  {
   "cell_type": "markdown",
   "id": "8651449f",
   "metadata": {},
   "source": [
    "## Model"
   ]
  },
  {
   "cell_type": "code",
   "execution_count": 3,
   "id": "82b0bf18",
   "metadata": {},
   "outputs": [],
   "source": [
    "from sklearn.pipeline import Pipeline\n",
    "from sklearn.feature_extraction.text import TfidfVectorizer\n",
    "from sklearn.multiclass import OneVsRestClassifier\n",
    "from sklearn.linear_model import LogisticRegression\n",
    "from sklearn.model_selection import train_test_split\n",
    "\n",
    "from shared import calculate_metrics\n",
    "\n",
    "import optuna"
   ]
  },
  {
   "cell_type": "code",
   "execution_count": 4,
   "id": "413330e9",
   "metadata": {},
   "outputs": [
    {
     "name": "stdout",
     "output_type": "stream",
     "text": [
      "Input shape: (50837,), Target shape : (50837,)\n"
     ]
    }
   ],
   "source": [
    "# data\n",
    "text = [positive_sentences[i] + \" \" + negative_sentences[i] for i in range(len(positive_sentences))]\n",
    "text = np.array(text)\n",
    "\n",
    "# target\n",
    "train.dropna(subset=[\"positive\", \"negative\"], inplace=True, how=\"all\")\n",
    "train[\"preprocessed_target\"] = train[\"target\"].str.split(\",\").apply(lambda x: x[0]).astype(int)\n",
    "target = train[\"preprocessed_target\"].values\n",
    "\n",
    "print(f\"Input shape: {text.shape}, Target shape : {target.shape}\")"
   ]
  },
  {
   "cell_type": "code",
   "execution_count": 5,
   "id": "cb0496e4",
   "metadata": {},
   "outputs": [
    {
     "name": "stdout",
     "output_type": "stream",
     "text": [
      "Train shape: (38127,), Test shape: (12710,)\n"
     ]
    }
   ],
   "source": [
    "# split\n",
    "text_train, text_test, target_train, target_test = train_test_split(text, target)\n",
    "print(f\"Train shape: {text_train.shape}, Test shape: {text_test.shape}\")"
   ]
  },
  {
   "cell_type": "code",
   "execution_count": 7,
   "id": "4c727180",
   "metadata": {
    "scrolled": true
   },
   "outputs": [
    {
     "name": "stderr",
     "output_type": "stream",
     "text": [
      "\u001b[32m[I 2022-01-24 20:32:24,463]\u001b[0m A new study created in memory with name: no-name-9731fba2-bbbd-48f3-9b24-b8122661f2db\u001b[0m\n",
      "\u001b[32m[I 2022-01-24 20:33:43,140]\u001b[0m Trial 0 finished with value: 0.611 and parameters: {'C': 2.2209704003741435, 'max_df': 2, 'ngram_range': 5}. Best is trial 0 with value: 0.611.\u001b[0m\n"
     ]
    },
    {
     "name": "stdout",
     "output_type": "stream",
     "text": [
      "Accuracy: 0.611, Precision: 0.314, Recall: 0.15\n"
     ]
    },
    {
     "name": "stderr",
     "output_type": "stream",
     "text": [
      "\u001b[32m[I 2022-01-24 20:34:23,246]\u001b[0m Trial 1 finished with value: 0.479 and parameters: {'C': 0.26351563639139375, 'max_df': 3, 'ngram_range': 4}. Best is trial 0 with value: 0.611.\u001b[0m\n"
     ]
    },
    {
     "name": "stdout",
     "output_type": "stream",
     "text": [
      "Accuracy: 0.479, Precision: 0.157, Recall: 0.112\n"
     ]
    },
    {
     "name": "stderr",
     "output_type": "stream",
     "text": [
      "\u001b[32m[I 2022-01-24 20:35:13,209]\u001b[0m Trial 2 finished with value: 0.596 and parameters: {'C': 1.3473065154012838, 'max_df': 2, 'ngram_range': 4}. Best is trial 0 with value: 0.611.\u001b[0m\n"
     ]
    },
    {
     "name": "stdout",
     "output_type": "stream",
     "text": [
      "Accuracy: 0.596, Precision: 0.148, Recall: 0.145\n"
     ]
    },
    {
     "name": "stderr",
     "output_type": "stream",
     "text": [
      "\u001b[32m[I 2022-01-24 20:36:14,851]\u001b[0m Trial 3 finished with value: 0.563 and parameters: {'C': 0.6892056295381991, 'max_df': 4, 'ngram_range': 5}. Best is trial 0 with value: 0.611.\u001b[0m\n"
     ]
    },
    {
     "name": "stdout",
     "output_type": "stream",
     "text": [
      "Accuracy: 0.563, Precision: 0.155, Recall: 0.135\n"
     ]
    },
    {
     "name": "stderr",
     "output_type": "stream",
     "text": [
      "\u001b[32m[I 2022-01-24 20:36:23,689]\u001b[0m Trial 4 finished with value: 0.604 and parameters: {'C': 2.347587118220292, 'max_df': 1, 'ngram_range': 2}. Best is trial 0 with value: 0.611.\u001b[0m\n"
     ]
    },
    {
     "name": "stdout",
     "output_type": "stream",
     "text": [
      "Accuracy: 0.604, Precision: 0.143, Recall: 0.148\n"
     ]
    },
    {
     "name": "stderr",
     "output_type": "stream",
     "text": [
      "\u001b[32m[I 2022-01-24 20:37:35,822]\u001b[0m Trial 5 finished with value: 0.651 and parameters: {'C': 1.27223342618966, 'max_df': 5, 'ngram_range': 5}. Best is trial 5 with value: 0.651.\u001b[0m\n"
     ]
    },
    {
     "name": "stdout",
     "output_type": "stream",
     "text": [
      "Accuracy: 0.651, Precision: 0.267, Recall: 0.162\n"
     ]
    },
    {
     "name": "stderr",
     "output_type": "stream",
     "text": [
      "\u001b[32m[I 2022-01-24 20:37:37,398]\u001b[0m Trial 6 finished with value: 0.537 and parameters: {'C': 2.985810789269549, 'max_df': 2, 'ngram_range': 1}. Best is trial 5 with value: 0.651.\u001b[0m\n"
     ]
    },
    {
     "name": "stdout",
     "output_type": "stream",
     "text": [
      "Accuracy: 0.537, Precision: 0.167, Recall: 0.13\n"
     ]
    },
    {
     "name": "stderr",
     "output_type": "stream",
     "text": [
      "\u001b[32m[I 2022-01-24 20:38:32,956]\u001b[0m Trial 7 finished with value: 0.509 and parameters: {'C': 1.1829731338963059, 'max_df': 1, 'ngram_range': 5}. Best is trial 5 with value: 0.651.\u001b[0m\n"
     ]
    },
    {
     "name": "stdout",
     "output_type": "stream",
     "text": [
      "Accuracy: 0.509, Precision: 0.143, Recall: 0.121\n"
     ]
    },
    {
     "name": "stderr",
     "output_type": "stream",
     "text": [
      "\u001b[32m[I 2022-01-24 20:40:02,604]\u001b[0m Trial 8 finished with value: 0.656 and parameters: {'C': 2.9370071627539214, 'max_df': 4, 'ngram_range': 5}. Best is trial 8 with value: 0.656.\u001b[0m\n"
     ]
    },
    {
     "name": "stdout",
     "output_type": "stream",
     "text": [
      "Accuracy: 0.656, Precision: 0.358, Recall: 0.165\n"
     ]
    },
    {
     "name": "stderr",
     "output_type": "stream",
     "text": [
      "\u001b[32m[I 2022-01-24 20:41:02,941]\u001b[0m Trial 9 finished with value: 0.646 and parameters: {'C': 2.751929841828929, 'max_df': 3, 'ngram_range': 4}. Best is trial 8 with value: 0.656.\u001b[0m\n"
     ]
    },
    {
     "name": "stdout",
     "output_type": "stream",
     "text": [
      "Accuracy: 0.646, Precision: 0.351, Recall: 0.162\n"
     ]
    },
    {
     "name": "stderr",
     "output_type": "stream",
     "text": [
      "\u001b[32m[I 2022-01-24 20:41:38,151]\u001b[0m Trial 10 finished with value: 0.663 and parameters: {'C': 1.9962993759573195, 'max_df': 5, 'ngram_range': 3}. Best is trial 10 with value: 0.663.\u001b[0m\n"
     ]
    },
    {
     "name": "stdout",
     "output_type": "stream",
     "text": [
      "Accuracy: 0.663, Precision: 0.358, Recall: 0.167\n"
     ]
    },
    {
     "name": "stderr",
     "output_type": "stream",
     "text": [
      "\u001b[32m[I 2022-01-24 20:42:11,706]\u001b[0m Trial 11 finished with value: 0.664 and parameters: {'C': 1.9524151524531084, 'max_df': 5, 'ngram_range': 3}. Best is trial 11 with value: 0.664.\u001b[0m\n"
     ]
    },
    {
     "name": "stdout",
     "output_type": "stream",
     "text": [
      "Accuracy: 0.664, Precision: 0.358, Recall: 0.168\n"
     ]
    },
    {
     "name": "stderr",
     "output_type": "stream",
     "text": [
      "\u001b[32m[I 2022-01-24 20:42:46,087]\u001b[0m Trial 12 finished with value: 0.664 and parameters: {'C': 1.9219501000269013, 'max_df': 5, 'ngram_range': 3}. Best is trial 11 with value: 0.664.\u001b[0m\n"
     ]
    },
    {
     "name": "stdout",
     "output_type": "stream",
     "text": [
      "Accuracy: 0.664, Precision: 0.358, Recall: 0.168\n"
     ]
    },
    {
     "name": "stderr",
     "output_type": "stream",
     "text": [
      "\u001b[32m[I 2022-01-24 20:43:19,949]\u001b[0m Trial 13 finished with value: 0.665 and parameters: {'C': 1.810072362948492, 'max_df': 5, 'ngram_range': 3}. Best is trial 13 with value: 0.665.\u001b[0m\n"
     ]
    },
    {
     "name": "stdout",
     "output_type": "stream",
     "text": [
      "Accuracy: 0.665, Precision: 0.373, Recall: 0.167\n"
     ]
    },
    {
     "name": "stderr",
     "output_type": "stream",
     "text": [
      "\u001b[32m[I 2022-01-24 20:43:32,556]\u001b[0m Trial 14 finished with value: 0.647 and parameters: {'C': 1.7616087988007167, 'max_df': 4, 'ngram_range': 2}. Best is trial 13 with value: 0.665.\u001b[0m\n"
     ]
    },
    {
     "name": "stdout",
     "output_type": "stream",
     "text": [
      "Accuracy: 0.647, Precision: 0.295, Recall: 0.162\n"
     ]
    },
    {
     "name": "stderr",
     "output_type": "stream",
     "text": [
      "\u001b[32m[I 2022-01-24 20:43:43,755]\u001b[0m Trial 15 finished with value: 0.648 and parameters: {'C': 0.8844562737606815, 'max_df': 5, 'ngram_range': 2}. Best is trial 13 with value: 0.665.\u001b[0m\n"
     ]
    },
    {
     "name": "stdout",
     "output_type": "stream",
     "text": [
      "Accuracy: 0.648, Precision: 0.152, Recall: 0.16\n"
     ]
    },
    {
     "name": "stderr",
     "output_type": "stream",
     "text": [
      "\u001b[32m[I 2022-01-24 20:44:17,277]\u001b[0m Trial 16 finished with value: 0.654 and parameters: {'C': 1.6157413831048346, 'max_df': 4, 'ngram_range': 3}. Best is trial 13 with value: 0.665.\u001b[0m\n"
     ]
    },
    {
     "name": "stdout",
     "output_type": "stream",
     "text": [
      "Accuracy: 0.654, Precision: 0.26, Recall: 0.164\n"
     ]
    },
    {
     "name": "stderr",
     "output_type": "stream",
     "text": [
      "\u001b[32m[I 2022-01-24 20:44:19,070]\u001b[0m Trial 17 finished with value: 0.573 and parameters: {'C': 2.4774872657830977, 'max_df': 5, 'ngram_range': 1}. Best is trial 13 with value: 0.665.\u001b[0m\n"
     ]
    },
    {
     "name": "stdout",
     "output_type": "stream",
     "text": [
      "Accuracy: 0.573, Precision: 0.408, Recall: 0.148\n"
     ]
    },
    {
     "name": "stderr",
     "output_type": "stream",
     "text": [
      "\u001b[32m[I 2022-01-24 20:44:31,474]\u001b[0m Trial 18 finished with value: 0.633 and parameters: {'C': 1.6907106556580616, 'max_df': 3, 'ngram_range': 2}. Best is trial 13 with value: 0.665.\u001b[0m\n"
     ]
    },
    {
     "name": "stdout",
     "output_type": "stream",
     "text": [
      "Accuracy: 0.633, Precision: 0.257, Recall: 0.158\n"
     ]
    },
    {
     "name": "stderr",
     "output_type": "stream",
     "text": [
      "\u001b[32m[I 2022-01-24 20:45:19,870]\u001b[0m Trial 19 finished with value: 0.633 and parameters: {'C': 0.9849502876573251, 'max_df': 4, 'ngram_range': 4}. Best is trial 13 with value: 0.665.\u001b[0m\n"
     ]
    },
    {
     "name": "stdout",
     "output_type": "stream",
     "text": [
      "Accuracy: 0.633, Precision: 0.266, Recall: 0.156\n"
     ]
    },
    {
     "name": "stderr",
     "output_type": "stream",
     "text": [
      "\u001b[32m[I 2022-01-24 20:45:57,549]\u001b[0m Trial 20 finished with value: 0.663 and parameters: {'C': 2.5940421308999033, 'max_df': 5, 'ngram_range': 3}. Best is trial 13 with value: 0.665.\u001b[0m\n"
     ]
    },
    {
     "name": "stdout",
     "output_type": "stream",
     "text": [
      "Accuracy: 0.663, Precision: 0.357, Recall: 0.168\n"
     ]
    },
    {
     "name": "stderr",
     "output_type": "stream",
     "text": [
      "\u001b[32m[I 2022-01-24 20:46:32,684]\u001b[0m Trial 21 finished with value: 0.663 and parameters: {'C': 2.0467658629162, 'max_df': 5, 'ngram_range': 3}. Best is trial 13 with value: 0.665.\u001b[0m\n"
     ]
    },
    {
     "name": "stdout",
     "output_type": "stream",
     "text": [
      "Accuracy: 0.663, Precision: 0.358, Recall: 0.168\n"
     ]
    },
    {
     "name": "stderr",
     "output_type": "stream",
     "text": [
      "\u001b[32m[I 2022-01-24 20:47:05,821]\u001b[0m Trial 22 finished with value: 0.664 and parameters: {'C': 1.95037911815183, 'max_df': 5, 'ngram_range': 3}. Best is trial 13 with value: 0.665.\u001b[0m\n"
     ]
    },
    {
     "name": "stdout",
     "output_type": "stream",
     "text": [
      "Accuracy: 0.664, Precision: 0.358, Recall: 0.168\n"
     ]
    },
    {
     "name": "stderr",
     "output_type": "stream",
     "text": [
      "\u001b[32m[I 2022-01-24 20:47:37,090]\u001b[0m Trial 23 finished with value: 0.653 and parameters: {'C': 1.4891536244601442, 'max_df': 4, 'ngram_range': 3}. Best is trial 13 with value: 0.665.\u001b[0m\n"
     ]
    },
    {
     "name": "stdout",
     "output_type": "stream",
     "text": [
      "Accuracy: 0.653, Precision: 0.261, Recall: 0.163\n"
     ]
    },
    {
     "name": "stderr",
     "output_type": "stream",
     "text": [
      "\u001b[32m[I 2022-01-24 20:47:50,795]\u001b[0m Trial 24 finished with value: 0.656 and parameters: {'C': 2.1780300947325495, 'max_df': 5, 'ngram_range': 2}. Best is trial 13 with value: 0.665.\u001b[0m\n"
     ]
    },
    {
     "name": "stdout",
     "output_type": "stream",
     "text": [
      "Accuracy: 0.656, Precision: 0.29, Recall: 0.166\n"
     ]
    },
    {
     "name": "stderr",
     "output_type": "stream",
     "text": [
      "\u001b[32m[I 2022-01-24 20:48:47,141]\u001b[0m Trial 25 finished with value: 0.654 and parameters: {'C': 1.7659726401983575, 'max_df': 4, 'ngram_range': 4}. Best is trial 13 with value: 0.665.\u001b[0m\n"
     ]
    },
    {
     "name": "stdout",
     "output_type": "stream",
     "text": [
      "Accuracy: 0.654, Precision: 0.373, Recall: 0.164\n"
     ]
    },
    {
     "name": "stderr",
     "output_type": "stream",
     "text": [
      "\u001b[32m[I 2022-01-24 20:49:20,575]\u001b[0m Trial 26 finished with value: 0.664 and parameters: {'C': 1.9092752280911105, 'max_df': 5, 'ngram_range': 3}. Best is trial 13 with value: 0.665.\u001b[0m\n"
     ]
    },
    {
     "name": "stdout",
     "output_type": "stream",
     "text": [
      "Accuracy: 0.664, Precision: 0.358, Recall: 0.168\n"
     ]
    },
    {
     "name": "stderr",
     "output_type": "stream",
     "text": [
      "\u001b[32m[I 2022-01-24 20:49:51,387]\u001b[0m Trial 27 finished with value: 0.641 and parameters: {'C': 1.4872587230285013, 'max_df': 3, 'ngram_range': 3}. Best is trial 13 with value: 0.665.\u001b[0m\n"
     ]
    },
    {
     "name": "stdout",
     "output_type": "stream",
     "text": [
      "Accuracy: 0.641, Precision: 0.26, Recall: 0.159\n"
     ]
    },
    {
     "name": "stderr",
     "output_type": "stream",
     "text": [
      "\u001b[32m[I 2022-01-24 20:50:05,584]\u001b[0m Trial 28 finished with value: 0.656 and parameters: {'C': 2.3403352359884884, 'max_df': 5, 'ngram_range': 2}. Best is trial 13 with value: 0.665.\u001b[0m\n"
     ]
    },
    {
     "name": "stdout",
     "output_type": "stream",
     "text": [
      "Accuracy: 0.656, Precision: 0.29, Recall: 0.166\n"
     ]
    },
    {
     "name": "stderr",
     "output_type": "stream",
     "text": [
      "\u001b[32m[I 2022-01-24 20:51:07,010]\u001b[0m Trial 29 finished with value: 0.656 and parameters: {'C': 2.202621156239747, 'max_df': 4, 'ngram_range': 4}. Best is trial 13 with value: 0.665.\u001b[0m\n"
     ]
    },
    {
     "name": "stdout",
     "output_type": "stream",
     "text": [
      "Accuracy: 0.656, Precision: 0.358, Recall: 0.165\n"
     ]
    }
   ],
   "source": [
    "def objective(trial):\n",
    "\n",
    "    # params\n",
    "    C = trial.suggest_float(\"C\", 1e-10, 3)\n",
    "    max_df = trial.suggest_int(\"max_df\", 1, 5)\n",
    "    ngram_range = trial.suggest_int(\"ngram_range\", 1, 5)\n",
    "    \n",
    "    # train\n",
    "    pipeline = Pipeline([(\"tfidf\", TfidfVectorizer(ngram_range=(1,ngram_range), max_df=max_df)),\n",
    "                         (\"clf\", OneVsRestClassifier(LogisticRegression(max_iter=1000, C=C)))])\n",
    "    pipeline.fit(text_train, target_train)\n",
    "    \n",
    "    # metrics\n",
    "    preds = pipeline.predict(text_test)\n",
    "    acc, pr, rc = calculate_metrics(y_true=target_test, y_pred=preds)\n",
    "    \n",
    "    return acc\n",
    "\n",
    "study = optuna.create_study(direction='maximize')\n",
    "study.optimize(objective, n_trials=30)"
   ]
  },
  {
   "cell_type": "code",
   "execution_count": 8,
   "id": "88ff55df",
   "metadata": {},
   "outputs": [
    {
     "data": {
      "text/plain": [
       "{'C': 1.810072362948492, 'max_df': 5, 'ngram_range': 3}"
      ]
     },
     "execution_count": 8,
     "metadata": {},
     "output_type": "execute_result"
    }
   ],
   "source": [
    "study.best_params"
   ]
  },
  {
   "cell_type": "code",
   "execution_count": 12,
   "id": "98b5da62",
   "metadata": {},
   "outputs": [
    {
     "name": "stdout",
     "output_type": "stream",
     "text": [
      "Accuracy: 0.665, Precision: 0.373, Recall: 0.167\n",
      "CPU times: user 2min 27s, sys: 948 ms, total: 2min 28s\n",
      "Wall time: 33.3 s\n"
     ]
    }
   ],
   "source": [
    "%%time\n",
    "pipeline = Pipeline([(\"tfidf\", TfidfVectorizer(ngram_range=(1,study.best_params[\"ngram_range\"]),\n",
    "                                               max_df=study.best_params[\"max_df\"])),\n",
    "                     (\"clf\", OneVsRestClassifier(LogisticRegression(max_iter=1000,\n",
    "                                                                    C=study.best_params[\"C\"])))])\n",
    "pipeline.fit(text_train, target_train)\n",
    "preds = pipeline.predict(text_test)\n",
    "acc, pr, rc = calculate_metrics(y_true=target_test, y_pred=preds)"
   ]
  },
  {
   "cell_type": "code",
   "execution_count": 13,
   "id": "19b7773e",
   "metadata": {},
   "outputs": [
    {
     "data": {
      "text/plain": [
       "(array([0, 1, 3, 8]), array([4752,    1,    6, 7951]))"
      ]
     },
     "metadata": {},
     "output_type": "display_data"
    },
    {
     "data": {
      "text/plain": [
       "(array([0, 1, 2, 3, 4, 5, 6, 7, 8]),\n",
       " array([5282,  765,    1,  263,   23,   61,  194,   95, 6026]))"
      ]
     },
     "metadata": {},
     "output_type": "display_data"
    }
   ],
   "source": [
    "# check distribution\n",
    "display(np.unique(preds, return_counts=True))\n",
    "display(np.unique(target_test, return_counts=True))"
   ]
  },
  {
   "cell_type": "code",
   "execution_count": null,
   "id": "74c4b99b",
   "metadata": {},
   "outputs": [],
   "source": []
  },
  {
   "cell_type": "code",
   "execution_count": null,
   "id": "b428e198",
   "metadata": {},
   "outputs": [],
   "source": []
  },
  {
   "cell_type": "code",
   "execution_count": null,
   "id": "4411183e",
   "metadata": {},
   "outputs": [],
   "source": []
  }
 ],
 "metadata": {
  "kernelspec": {
   "display_name": "Python 3 (ipykernel)",
   "language": "python",
   "name": "python3"
  },
  "language_info": {
   "codemirror_mode": {
    "name": "ipython",
    "version": 3
   },
   "file_extension": ".py",
   "mimetype": "text/x-python",
   "name": "python",
   "nbconvert_exporter": "python",
   "pygments_lexer": "ipython3",
   "version": "3.9.7"
  }
 },
 "nbformat": 4,
 "nbformat_minor": 5
}
