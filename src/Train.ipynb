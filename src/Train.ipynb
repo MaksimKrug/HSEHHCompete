{
 "cells": [
  {
   "cell_type": "code",
   "execution_count": null,
   "id": "dbbb0d7b",
   "metadata": {},
   "outputs": [],
   "source": [
    "import numpy as np\n",
    "import nltk\n",
    "from tqdm.notebook import tqdm\n",
    "from glob import glob\n",
    "import fasttext\n",
    "from navec import Navec\n",
    "\n",
    "from transformers import AutoTokenizer, AutoModel, BertTokenizer, BertModel\n",
    "from sklearn.model_selection import train_test_split, KFold\n",
    "import torch\n",
    "from torch.utils.data import Dataset, DataLoader\n",
    "import torch.functional as F\n",
    "from torch import nn\n",
    "import torchmetrics\n",
    "import pytorch_lightning as pl\n",
    "\n",
    "from warnings import filterwarnings\n",
    "filterwarnings(\"ignore\")"
   ]
  },
  {
   "cell_type": "markdown",
   "id": "8c96f282",
   "metadata": {},
   "source": [
    "## Data"
   ]
  },
  {
   "cell_type": "code",
   "execution_count": null,
   "id": "50f6f4a9",
   "metadata": {},
   "outputs": [],
   "source": [
    "from model import CustomDataset, FinalModel"
   ]
  },
  {
   "cell_type": "code",
   "execution_count": null,
   "id": "53cc1c59",
   "metadata": {},
   "outputs": [],
   "source": [
    "# embeddings\n",
    "navec_model = Navec.load(\"data/navec_hudlit_v1_12B_500K_300d_100q.tar\")\n",
    "fasttext_model = fasttext.load_model(\"data/cc.ru.300.bin\")\n",
    "\n",
    "# Load data\n",
    "# train_data = glob(\"data/augmentations/train2/*.npy\") + glob(\"data/augmentations/test_pseudo/*.npy\")\n",
    "train_data = glob(\"data/augmentations/train/*.npy\")"
   ]
  },
  {
   "cell_type": "code",
   "execution_count": null,
   "id": "6fc5cbc7",
   "metadata": {
    "scrolled": true
   },
   "outputs": [],
   "source": [
    "kfold = KFold(n_splits=5, random_state=42, shuffle=True)\n",
    "sent_size = 112\n",
    "batch_size = 128\n",
    "    \n",
    "for idx, (train_path, val_path) in enumerate(kfold.split(train_data)):  \n",
    "    \n",
    "    # split\n",
    "    train_files = [train_data[i] for i in range(len(train_data)) if i in train_path]\n",
    "    val_files = [train_data[i] for i in range(len(train_data)) if i in val_path]\n",
    "    \n",
    "    # data\n",
    "    dataset_train = CustomDataset(train_files, sent_size, True, navec_model, fasttext_model)\n",
    "    dataloader_train = DataLoader(dataset_train, batch_size=batch_size, shuffle=True)\n",
    "    dataset_val = CustomDataset(val_files, sent_size, True, navec_model, fasttext_model)\n",
    "    dataloader_val = DataLoader(dataset_val, batch_size=batch_size, shuffle=True)\n",
    "    \n",
    "    # model\n",
    "    params = {\"lr\": 0.00068437, \"weight_decay\": 0.052502, \n",
    "              \"hidden_size\": 303,  \"bidirectional\": False,\n",
    "              \"drop_lstm\":0.0048089, \"drop_linear\":0.35191,\n",
    "              \"linear1_size\":723, \"linear2_size\":494}\n",
    "    model = FinalModel(**params)\n",
    "    \n",
    "    # utils\n",
    "    lr_monitoring = pl.callbacks.LearningRateMonitor(logging_interval=\"epoch\")\n",
    "    early_stop_callback = pl.callbacks.early_stopping.EarlyStopping(monitor=\"val_f1\", min_delta=0.0001,\n",
    "                                                                    patience=3, verbose=False, mode=\"max\")\n",
    "    logger = pl.loggers.TensorBoardLogger(save_dir=\"logs\", name=\"final_model\", version=f\"fold_{idx}\")\n",
    "    \n",
    "    # train\n",
    "    trainer = pl.Trainer(gpus=1, max_epochs=15, logger=logger,\n",
    "                         callbacks=[lr_monitoring, early_stop_callback], weights_summary=None)\n",
    "    trainer.fit(model, dataloader_train, dataloader_val)\n",
    "    \n",
    "    # save model\n",
    "    trainer.save_checkpoint(f\"data/models/final_model_{idx}.ckpt\", weights_only=True)\n",
    "    \n",
    "    break"
   ]
  },
  {
   "cell_type": "code",
   "execution_count": null,
   "id": "6482b16c",
   "metadata": {},
   "outputs": [],
   "source": []
  },
  {
   "cell_type": "code",
   "execution_count": null,
   "id": "1a022aab",
   "metadata": {},
   "outputs": [],
   "source": []
  },
  {
   "cell_type": "code",
   "execution_count": null,
   "id": "7bc2a1e0",
   "metadata": {},
   "outputs": [],
   "source": []
  }
 ],
 "metadata": {
  "kernelspec": {
   "display_name": "Python 3 (ipykernel)",
   "language": "python",
   "name": "python3"
  },
  "language_info": {
   "codemirror_mode": {
    "name": "ipython",
    "version": 3
   },
   "file_extension": ".py",
   "mimetype": "text/x-python",
   "name": "python",
   "nbconvert_exporter": "python",
   "pygments_lexer": "ipython3",
   "version": "3.9.7"
  }
 },
 "nbformat": 4,
 "nbformat_minor": 5
}
